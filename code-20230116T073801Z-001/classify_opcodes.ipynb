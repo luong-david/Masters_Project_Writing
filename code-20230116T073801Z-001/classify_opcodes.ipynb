{
 "cells": [
  {
   "attachments": {},
   "cell_type": "markdown",
   "metadata": {},
   "source": [
    "Malware Opcode Classification \n",
    "\n",
    "Authored by David Luong\n",
    "\n",
    "Reference: https://machinelearningmastery.com/sequence-classification-lstm-recurrent-neural-networks-python-keras/"
   ]
  },
  {
   "cell_type": "code",
   "execution_count": 32,
   "metadata": {},
   "outputs": [],
   "source": [
    "import os\n",
    "import numpy as np\n",
    "from sklearn.model_selection import train_test_split\n",
    "import matplotlib.pyplot as plt # for plotting model loss\n",
    "\n",
    "#Import svm model\n",
    "from sklearn import svm\n",
    "#Import random forest model\n",
    "from sklearn.ensemble import RandomForestClassifier\n",
    "\n",
    "import tensorflow as tf\n",
    "from tensorflow.keras.models import Sequential\n",
    "from tensorflow.keras.layers import Dense\n",
    "from tensorflow.keras.layers import LSTM\n",
    "from tensorflow.keras.layers import Bidirectional\n",
    "from tensorflow.keras.layers import Conv1D\n",
    "from tensorflow.keras.layers import MaxPooling1D\n",
    "from tensorflow.keras.layers import Embedding\n",
    "from tensorflow.keras.preprocessing import sequence\n",
    "\n",
    "#Import knn model\n",
    "from sklearn.neighbors import KNeighborsClassifier\n",
    "\n",
    "# Final evaluation of the model\n",
    "from sklearn.metrics import accuracy_score\n",
    "from sklearn.metrics import classification_report\n",
    "from sklearn.model_selection import KFold\n",
    "from sklearn.metrics import plot_confusion_matrix, recall_score, precision_score\n",
    "from sklearn.naive_bayes import GaussianNB\n",
    "\n",
    "# fix random seed for reproducibility\n",
    "tf.random.set_seed(7)\n",
    "\n",
    "import os\n",
    "import sys\n",
    "import json\n",
    "\n",
    "# Assign main directory to a variable\n",
    "main_dir=os.path.dirname(sys.path[0])"
   ]
  },
  {
   "attachments": {},
   "cell_type": "markdown",
   "metadata": {},
   "source": [
    "Define Run Settings"
   ]
  },
  {
   "cell_type": "code",
   "execution_count": 33,
   "metadata": {},
   "outputs": [],
   "source": [
    "# parameters\n",
    "real_malware = 'WinWebSec' # OnLineGames, Renos, VBInject, WinWebSec, Zbot, Mixed\n",
    "\n",
    "use_harshit = 0 # 1 to use Harshit's fake samples, other to use Albert's\n",
    "select_malware = 'vae_cnn_samples' # wgan_gp_samples, vae_cnn_samples, vae_dense_samples\n",
    "select_vectorization = 'pos' # freq, pos\n",
    "unique_opcodes = 1 # 0 = visualize_explore/opcodes, 1 = fake_tests/opdicts\n",
    "max_sequence_length = 600\n",
    "use_deep_classifiers = 1 # 1+ = use, 0 do not use \n",
    "target_names = ['Real', 'Fake']\n",
    "\n",
    "# LSTM\n",
    "embedding_vector_length = 32\n",
    "\n",
    "if real_malware == 'WinWebSec':\n",
    "    fake_malware = 'wws'\n",
    "    top_opcodes = 22\n",
    "elif real_malware == 'OnLineGames':\n",
    "    fake_malware = 'olgames'\n",
    "    top_opcodes = 22\n",
    "elif real_malware == 'Renos':\n",
    "    fake_malware = 'renos'\n",
    "    top_opcodes = 22\n",
    "elif real_malware == 'VBInject':\n",
    "    fake_malware = 'vbinject'\n",
    "    top_opcodes = 25\n",
    "elif real_malware == 'Zbot':\n",
    "    fake_malware = 'zbot'\n",
    "    top_opcodes = 20\n",
    "elif real_malware == 'Mixed':\n",
    "    fake_malware = 'mixed'\n",
    "    top_opcodes = 41\n",
    "else:\n",
    "    print('!!!Malware not found!!!')\n"
   ]
  },
  {
   "attachments": {},
   "cell_type": "markdown",
   "metadata": {},
   "source": [
    "Define Helper Functions"
   ]
  },
  {
   "cell_type": "code",
   "execution_count": 34,
   "metadata": {},
   "outputs": [],
   "source": [
    "# function to get unique values\n",
    "def unique(list1):\n",
    "    # initialize a null list\n",
    "    unique_list = []\n",
    "    # traverse for all elements\n",
    "    for x in list1:\n",
    "        # check if exists in unique_list or not\n",
    "        if x not in unique_list:\n",
    "            unique_list.append(x)\n",
    "    return unique_list\n",
    "\n",
    "# Python code to count the number of occurrences\n",
    "def countX(lst, x):\n",
    "    count = 0\n",
    "    for ele in lst:\n",
    "        if (ele == x):\n",
    "            count = count + 1\n",
    "    return count\n",
    "\n",
    "# opcodes are indexed by overall frequency\n",
    "def get_opcode_freq(opcode_frequency):\n",
    "    rank = 0\n",
    "    prev_count = -1\n",
    "    for item in sorted(opcode_frequency,reverse=True):\n",
    "        # increment rank if current opcode has different frequency than previous opcode\n",
    "        if prev_count != item[0]:\n",
    "            rank+=1\n",
    "        # assign frequency rank\n",
    "        opcode_frequency[item[1]] = rank\n",
    "        # save previous frequency\n",
    "        prev_count = item[0]\n",
    "    return opcode_frequency\n",
    "\n",
    "# opcodes are indexed by unique opcode position (opcodes_into_list)\n",
    "def get_opcode_pos(data_into_list,opcodes_into_list):\n",
    "    opcode_position = []\n",
    "    nx = 0\n",
    "    for x in data_into_list:\n",
    "        ny = 0\n",
    "        for y in opcodes_into_list:\n",
    "            if x == y:\n",
    "                opcode_position.append(ny)\n",
    "                break\n",
    "            ny+=1\n",
    "        nx+=1\n",
    "        # index for unknown opcodes\n",
    "        if len(opcodes_into_list) == ny:\n",
    "            opcode_position.append(ny)\n",
    "    return opcode_position\n",
    "\n",
    "# get opcode list from opdict\n",
    "def get_opcode_dict(malware_fam,file_path):\n",
    "    my_opcodes = file_path + 'opdict' + malware_fam + '.json'\n",
    "    with open(my_opcodes) as json_file:\n",
    "        data = json.load(json_file)\n",
    "    return list(data.keys())"
   ]
  },
  {
   "attachments": {},
   "cell_type": "markdown",
   "metadata": {},
   "source": [
    "Load Real and Fake Malware Files"
   ]
  },
  {
   "cell_type": "code",
   "execution_count": 35,
   "metadata": {},
   "outputs": [
    {
     "name": "stdout",
     "output_type": "stream",
     "text": [
      "Processing real malware../malware_data/WinWebSec/0009d99691e8eed99c7dd1500e07cda336d54260.asm.txt\n",
      "Processing real malware../malware_data/WinWebSec/00113d9802cca3deba19cf9daa17f1c2269de2b8.asm.txt\n",
      "Processing real malware../malware_data/WinWebSec/0036d720d8ff6c8f4860b5c69deba7c400e4d356.asm.txt\n",
      "Processing real malware../malware_data/WinWebSec/0037c7716f1dc8e5c4e1f9a9f3e9d5aedb7a6979.asm.txt\n",
      "Processing real malware../malware_data/WinWebSec/003824de7a82d2db9fc877c44ea93f76dd0e5ca9.asm.txt\n",
      "Processing real malware../malware_data/WinWebSec/00427746e03afb4d3b28791a82315e52acf66a0b.asm.txt\n",
      "Processing real malware../malware_data/WinWebSec/004bb59ba37917bfea49e6904f0551df7b3c719f.asm.txt\n",
      "Processing real malware../malware_data/WinWebSec/005150c72b9cd08a62bc0d730e3593b4f160534a.asm.txt\n",
      "Processing real malware../malware_data/WinWebSec/005231177f706856a0617a2c871d627ddedf54a7.asm.txt\n",
      "Processing real malware../malware_data/WinWebSec/005e219370aaf892509b509b76cb082b36b16fcf.asm.txt\n",
      "Processing fake malware./code/fake_tests/vae_cnn_samples/wws/generated_WinWebSec_1.txt\n",
      "Processing fake malware./code/fake_tests/vae_cnn_samples/wws/generated_WinWebSec_10.txt\n",
      "Processing fake malware./code/fake_tests/vae_cnn_samples/wws/generated_WinWebSec_2.txt\n",
      "Processing fake malware./code/fake_tests/vae_cnn_samples/wws/generated_WinWebSec_3.txt\n",
      "Processing fake malware./code/fake_tests/vae_cnn_samples/wws/generated_WinWebSec_4.txt\n",
      "Processing fake malware./code/fake_tests/vae_cnn_samples/wws/generated_WinWebSec_5.txt\n",
      "Processing fake malware./code/fake_tests/vae_cnn_samples/wws/generated_WinWebSec_6.txt\n",
      "Processing fake malware./code/fake_tests/vae_cnn_samples/wws/generated_WinWebSec_7.txt\n",
      "Processing fake malware./code/fake_tests/vae_cnn_samples/wws/generated_WinWebSec_8.txt\n",
      "Processing fake malware./code/fake_tests/vae_cnn_samples/wws/generated_WinWebSec_9.txt\n",
      "There are 20 malware files\n"
     ]
    }
   ],
   "source": [
    "# initialize variables\n",
    "dataset = []\n",
    "dataset_names = []\n",
    "dataset_ind = []\n",
    "\n",
    "# opening list of unique opcodes\n",
    "if unique_opcodes == 0:\n",
    "    my_fp = './code/visualize_explore/opcodes/'\n",
    "    my_opcodes = open(my_fp + 'opcodes' + real_malware + '.txt','r')\n",
    "    opcodes = my_opcodes.read()\n",
    "    opcodes_into_list = opcodes.replace('\\n', ' ').split(\" \")\n",
    "    opcodes_into_list.remove('')\n",
    "    # close opcodes file\n",
    "    my_opcodes.close()\n",
    "elif unique_opcodes == 1:\n",
    "    my_fp = main_dir + '/code-20230116T073801Z-001/code/fake_tests/opdicts/'\n",
    "    opcodes_into_list = get_opcode_dict(real_malware,my_fp)\n",
    "\n",
    "# real malware parameters\n",
    "my_filepath = \"../malware_data/\" + real_malware +'/'\n",
    "dir_list = os.listdir(my_filepath)\n",
    "\n",
    "# process real malware\n",
    "for fm in dir_list:\n",
    "    # if f == 'VirusShare_07c88839c083ddf7ecb11e7bfde38ea8.txt': # debug\n",
    "    print('Processing real malware' + my_filepath + fm)\n",
    "\n",
    "    # opening the file in read mode\n",
    "    my_file = open(my_filepath + fm, \"r\")\n",
    "\n",
    "    # reading the file\n",
    "    data = my_file.read()\n",
    "\n",
    "    # replacing end of line('/n') with ' ' and\n",
    "    # splitting the text it further when '.' is seen.\n",
    "    data_into_list = data.replace('\\n', ' ').split(\" \")\n",
    "\n",
    "    # remove '' from opcodes\n",
    "    data_into_list.remove('')\n",
    "\n",
    "    opcode_frequency = []\n",
    "    if data_into_list:\n",
    "            \n",
    "        # create (opcode frequency, rank) tuple\n",
    "        idx = 0\n",
    "        for x in opcodes_into_list:\n",
    "            count = countX(data_into_list, x)\n",
    "            #print('{} has occurred {} times'.format(x,count))\n",
    "            opcode_frequency.append((count,idx))\n",
    "            idx+=1\n",
    "        # print(sorted(opcode_frequency,reverse=True))\n",
    "\n",
    "        # opcodes are indexed by overall frequency\n",
    "        opcode_frequency = get_opcode_freq(opcode_frequency)\n",
    "\n",
    "        # opcodes are indexed by opcodes_into_list position\n",
    "        opcode_position = get_opcode_pos(data_into_list,opcodes_into_list)\n",
    "\n",
    "        # add real malware to dataset\n",
    "        dataset.append(opcode_position)\n",
    "        dataset_names.append(fm)\n",
    "        dataset_ind.append(0) # 0 is indicator for real malware\n",
    "    else:\n",
    "        # skip processing if malware file is empty\n",
    "        print('------------> is empty ... skipping')\n",
    "\n",
    "    # close file\n",
    "    my_file.close()\n",
    "\n",
    "nRealSamples = len(dataset)\n",
    "\n",
    "# create fake malware dataset\n",
    "if use_harshit == 1:\n",
    "    my_fake_filepath = './code/fake_tests/fakeSamples_small/' + fake_malware # Harshit\n",
    "    dir_list_fake = os.listdir(my_fake_filepath)\n",
    "\n",
    "    for fake in dir_list_fake:\n",
    "        print('Processing Harshit\\'s fake malware' + my_fake_filepath + '/' + fake)\n",
    "\n",
    "        # open the file\n",
    "        my_fake_opcodes = open(my_fake_filepath + '/' + fake, \"r\")\n",
    "\n",
    "        # reading the file\n",
    "        data = my_fake_opcodes.read()\n",
    "\n",
    "        # replacing end of line('/n') with ' ' and\n",
    "        # splitting the text it further when '.' is seen.\n",
    "        data_into_list = data.replace('\\n', ' ').split(\" \")\n",
    "\n",
    "        # remove '' from opcodes\n",
    "        data_into_list.remove('')\n",
    "\n",
    "        opcode_frequency = []\n",
    "        if data_into_list:\n",
    "                \n",
    "            # create (opcode frequency, rank) tuple\n",
    "            idx = 0\n",
    "            for x in opcodes_into_list:\n",
    "                count = countX(data_into_list, x)\n",
    "                #print('{} has occurred {} times'.format(x,count))\n",
    "                opcode_frequency.append((count,idx))\n",
    "                idx+=1\n",
    "            # print(sorted(opcode_frequency,reverse=True))\n",
    "\n",
    "            # opcodes are indexed by overall frequency\n",
    "            opcode_frequency = get_opcode_freq(opcode_frequency)\n",
    "\n",
    "            # add real malware to dataset\n",
    "            if select_vectorization == 'freq':\n",
    "                dataset.append(opcode_frequency)\n",
    "            elif select_vectorization == 'pos':\n",
    "                opcode_list = []\n",
    "                for oc in data_into_list:\n",
    "                    opcode_list.append(int(oc))\n",
    "                dataset.append(opcode_list)\n",
    "\n",
    "            dataset_names.append(fake)\n",
    "            dataset_ind.append(1)\n",
    "\n",
    "        # close opcodes file\n",
    "        my_fake_opcodes.close()\n",
    "\n",
    "else: # self-generated malware\n",
    "    \n",
    "    # fake malware parameters\n",
    "    my_fake_filepath = './code/fake_tests/' + select_malware + '/' + fake_malware + '/'\n",
    "    dir_list = os.listdir(my_fake_filepath)\n",
    "\n",
    "    # process fake malware\n",
    "    for fm in dir_list:\n",
    "        # if f == 'VirusShare_07c88839c083ddf7ecb11e7bfde38ea8.txt': # debug\n",
    "        print('Processing fake malware' + my_fake_filepath + fm)\n",
    "\n",
    "        # opening the file in read mode\n",
    "        my_fake_file = open(my_fake_filepath + fm, \"r\")\n",
    "\n",
    "        # reading the file\n",
    "        data = my_fake_file.read()\n",
    "\n",
    "        # replacing end of line('/n') with ' ' and\n",
    "        # splitting the text it further when '.' is seen.\n",
    "        data_into_list = data.replace('\\n', ' ').split(\" \")\n",
    "\n",
    "        # remove '' from opcodes\n",
    "        data_into_list.remove('')\n",
    "\n",
    "        opcode_frequency = []\n",
    "        if data_into_list:\n",
    "                \n",
    "            # create (opcode frequency, rank) tuple\n",
    "            idx = 0\n",
    "            for x in opcodes_into_list:\n",
    "                count = countX(data_into_list, x)\n",
    "                #print('{} has occurred {} times'.format(x,count))\n",
    "                opcode_frequency.append((count,idx))\n",
    "                idx+=1\n",
    "            # print(sorted(opcode_frequency,reverse=True))\n",
    "\n",
    "            # opcodes are indexed by overall frequency\n",
    "            opcode_frequency = get_opcode_freq(opcode_frequency)\n",
    "\n",
    "            # opcodes are indexed by opcodes_into_list position\n",
    "            opcode_position = get_opcode_pos(data_into_list,opcodes_into_list)\n",
    "\n",
    "            # add fake malware to dataset\n",
    "            if select_vectorization == 'freq':\n",
    "                dataset.append(opcode_frequency)\n",
    "            elif select_vectorization == 'pos':\n",
    "                dataset.append(opcode_position)\n",
    "\n",
    "            dataset_names.append(fm)\n",
    "            dataset_ind.append(1) # 1 is indicator for fake malware\n",
    "        else:\n",
    "            # skip processing if malware file is empty\n",
    "            print('------------> is empty ... skipping')\n",
    "\n",
    "        # close file\n",
    "        my_fake_file.close()\n",
    "\n",
    "nFakeSamples = len(dataset) - nRealSamples\n",
    "\n",
    "# convert dataset to numpy arrays\n",
    "X = np.array(dataset,dtype=object)\n",
    "y = np.array(dataset_ind,dtype='int64')\n",
    "\n",
    "# print\n",
    "nSamples = len(X)\n",
    "print('There are', nSamples, 'malware files')"
   ]
  },
  {
   "attachments": {},
   "cell_type": "markdown",
   "metadata": {},
   "source": [
    "Visualize Real and Fake Malware Samples"
   ]
  },
  {
   "cell_type": "code",
   "execution_count": 36,
   "metadata": {},
   "outputs": [
    {
     "name": "stdout",
     "output_type": "stream",
     "text": [
      "Real Malware - WinWebSec\n"
     ]
    },
    {
     "data": {
      "image/png": "[encoded data removed]",
      "text/plain": [
       "<Figure size 432x288 with 1 Axes>"
      ]
     },
     "metadata": {
      "needs_background": "light"
     },
     "output_type": "display_data"
    },
    {
     "name": "stdout",
     "output_type": "stream",
     "text": [
      "Fake Malware - WinWebSec\n"
     ]
    },
    {
     "data": {
      "image/png": "[encoded data removed]",
      "text/plain": [
       "<Figure size 432x288 with 1 Axes>"
      ]
     },
     "metadata": {
      "needs_background": "light"
     },
     "output_type": "display_data"
    }
   ],
   "source": [
    "tmp = sequence.pad_sequences(X, maxlen=max_sequence_length, dtype='int32',\n",
    "    padding='pre', truncating='pre', value=0.)\n",
    "\n",
    "print('Real Malware - ' + real_malware)\n",
    "plt.matshow(np.array(tmp[0]).reshape(20,30))\n",
    "plt.show()\n",
    "\n",
    "print('Fake Malware - ' + real_malware)\n",
    "plt.matshow(np.array(tmp[5]).reshape(20,30))\n",
    "plt.show()"
   ]
  },
  {
   "attachments": {},
   "cell_type": "markdown",
   "metadata": {},
   "source": [
    "Define Training and Test Datasets"
   ]
  },
  {
   "cell_type": "code",
   "execution_count": 37,
   "metadata": {},
   "outputs": [],
   "source": [
    "# train/test split\n",
    "X_train, X_test, y_train, y_test = train_test_split(X, y, test_size=0.33, random_state=42)\n",
    "\n",
    "# truncate and pad input sequences\n",
    "X_train = sequence.pad_sequences(X_train, maxlen=max_sequence_length)\n",
    "X_test = sequence.pad_sequences(X_test, maxlen=max_sequence_length)"
   ]
  },
  {
   "attachments": {},
   "cell_type": "markdown",
   "metadata": {},
   "source": [
    "Define LSTM Model"
   ]
  },
  {
   "cell_type": "code",
   "execution_count": 38,
   "metadata": {},
   "outputs": [
    {
     "name": "stdout",
     "output_type": "stream",
     "text": [
      "Model: \"sequential_6\"\n",
      "_________________________________________________________________\n",
      " Layer (type)                Output Shape              Param #   \n",
      "=================================================================\n",
      " embedding_6 (Embedding)     (None, 600, 32)           704       \n",
      "                                                                 \n",
      " lstm_6 (LSTM)               (None, 100)               53200     \n",
      "                                                                 \n",
      " dense_6 (Dense)             (None, 1)                 101       \n",
      "                                                                 \n",
      "=================================================================\n",
      "Total params: 54,005\n",
      "Trainable params: 54,005\n",
      "Non-trainable params: 0\n",
      "_________________________________________________________________\n",
      "None\n",
      "Epoch 1/10\n",
      "1/1 [==============================] - 2s 2s/step - loss: 0.6932 - accuracy: 0.4615 - val_loss: 0.6946 - val_accuracy: 0.4286\n",
      "Epoch 2/10\n",
      "1/1 [==============================] - 0s 309ms/step - loss: 0.6897 - accuracy: 0.5385 - val_loss: 0.6954 - val_accuracy: 0.4286\n",
      "Epoch 3/10\n",
      "1/1 [==============================] - 0s 311ms/step - loss: 0.6862 - accuracy: 0.5385 - val_loss: 0.6965 - val_accuracy: 0.4286\n",
      "Epoch 4/10\n",
      "1/1 [==============================] - 0s 339ms/step - loss: 0.6824 - accuracy: 0.5385 - val_loss: 0.6981 - val_accuracy: 0.4286\n",
      "Epoch 5/10\n",
      "1/1 [==============================] - 0s 327ms/step - loss: 0.6784 - accuracy: 0.5385 - val_loss: 0.7002 - val_accuracy: 0.4286\n",
      "Epoch 6/10\n",
      "1/1 [==============================] - 0s 342ms/step - loss: 0.6739 - accuracy: 0.5385 - val_loss: 0.7032 - val_accuracy: 0.4286\n",
      "Epoch 7/10\n",
      "1/1 [==============================] - 0s 329ms/step - loss: 0.6690 - accuracy: 0.5385 - val_loss: 0.7068 - val_accuracy: 0.4286\n",
      "Epoch 8/10\n",
      "1/1 [==============================] - 0s 317ms/step - loss: 0.6635 - accuracy: 0.5385 - val_loss: 0.7113 - val_accuracy: 0.4286\n",
      "Epoch 9/10\n",
      "1/1 [==============================] - 0s 376ms/step - loss: 0.6570 - accuracy: 0.5385 - val_loss: 0.7174 - val_accuracy: 0.4286\n",
      "Epoch 10/10\n",
      "1/1 [==============================] - 0s 403ms/step - loss: 0.6494 - accuracy: 0.6154 - val_loss: 0.7264 - val_accuracy: 0.4286\n",
      "1/1 [==============================] - 0s 87ms/step - loss: 0.7264 - accuracy: 0.4286\n",
      "LSTM Accuracy: 42.86%\n",
      "              precision    recall  f1-score   support\n",
      "\n",
      "        Real       0.00      0.00      0.00         4\n",
      "        Fake       0.43      1.00      0.60         3\n",
      "\n",
      "    accuracy                           0.43         7\n",
      "   macro avg       0.21      0.50      0.30         7\n",
      "weighted avg       0.18      0.43      0.26         7\n",
      "\n"
     ]
    },
    {
     "name": "stderr",
     "output_type": "stream",
     "text": [
      "C:\\Users\\e399410\\AppData\\Roaming\\Python\\Python39\\site-packages\\sklearn\\metrics\\_classification.py:1308: UndefinedMetricWarning: Precision and F-score are ill-defined and being set to 0.0 in labels with no predicted samples. Use `zero_division` parameter to control this behavior.\n",
      "  _warn_prf(average, modifier, msg_start, len(result))\n",
      "C:\\Users\\e399410\\AppData\\Roaming\\Python\\Python39\\site-packages\\sklearn\\metrics\\_classification.py:1308: UndefinedMetricWarning: Precision and F-score are ill-defined and being set to 0.0 in labels with no predicted samples. Use `zero_division` parameter to control this behavior.\n",
      "  _warn_prf(average, modifier, msg_start, len(result))\n",
      "C:\\Users\\e399410\\AppData\\Roaming\\Python\\Python39\\site-packages\\sklearn\\metrics\\_classification.py:1308: UndefinedMetricWarning: Precision and F-score are ill-defined and being set to 0.0 in labels with no predicted samples. Use `zero_division` parameter to control this behavior.\n",
      "  _warn_prf(average, modifier, msg_start, len(result))\n"
     ]
    }
   ],
   "source": [
    "# create LSTM model\n",
    "\n",
    "if use_deep_classifiers:\n",
    "    model = Sequential()\n",
    "    model.add(Embedding(top_opcodes, embedding_vector_length, input_length=max_sequence_length))\n",
    "    model.add(LSTM(100))\n",
    "    model.add(Dense(1, activation='sigmoid'))\n",
    "    model.compile(loss='binary_crossentropy', optimizer='adam', metrics=['accuracy'])\n",
    "    print(model.summary())\n",
    "    model.fit(X_train, y_train, validation_data=(X_test, y_test), epochs=10, batch_size=64)\n",
    "\n",
    "    # Final evaluation of the model\n",
    "    scores = model.evaluate(X_test, y_test, verbose=1)\n",
    "    lstm_score = scores[1]*100\n",
    "    print(\"LSTM Accuracy: %.2f%%\" % (scores[1]*100))\n",
    "\n",
    "    # Classification Report\n",
    "    y_pred = np.round(model.predict(X_test))\n",
    "    print(classification_report(y_test, y_pred, target_names=target_names))"
   ]
  },
  {
   "attachments": {},
   "cell_type": "markdown",
   "metadata": {},
   "source": [
    "Define Bidirectional LSTM Classifier"
   ]
  },
  {
   "cell_type": "code",
   "execution_count": 39,
   "metadata": {},
   "outputs": [
    {
     "name": "stdout",
     "output_type": "stream",
     "text": [
      "Model: \"sequential_7\"\n",
      "_________________________________________________________________\n",
      " Layer (type)                Output Shape              Param #   \n",
      "=================================================================\n",
      " embedding_7 (Embedding)     (None, 600, 32)           704       \n",
      "                                                                 \n",
      " bidirectional_2 (Bidirectio  (None, 200)              106400    \n",
      " nal)                                                            \n",
      "                                                                 \n",
      " dense_7 (Dense)             (None, 1)                 201       \n",
      "                                                                 \n",
      "=================================================================\n",
      "Total params: 107,305\n",
      "Trainable params: 107,305\n",
      "Non-trainable params: 0\n",
      "_________________________________________________________________\n",
      "None\n",
      "Epoch 1/10\n",
      "1/1 [==============================] - 5s 5s/step - loss: 0.6919 - accuracy: 0.6923\n",
      "Epoch 2/10\n",
      "1/1 [==============================] - 1s 1s/step - loss: 0.6893 - accuracy: 0.5385\n",
      "Epoch 3/10\n",
      "1/1 [==============================] - 2s 2s/step - loss: 0.6864 - accuracy: 0.5385\n",
      "Epoch 4/10\n",
      "1/1 [==============================] - 2s 2s/step - loss: 0.6824 - accuracy: 0.5385\n",
      "Epoch 5/10\n",
      "1/1 [==============================] - 2s 2s/step - loss: 0.6801 - accuracy: 0.5385\n",
      "Epoch 6/10\n",
      "1/1 [==============================] - 2s 2s/step - loss: 0.6772 - accuracy: 0.5385\n",
      "Epoch 7/10\n",
      "1/1 [==============================] - 2s 2s/step - loss: 0.6735 - accuracy: 0.5385\n",
      "Epoch 8/10\n",
      "1/1 [==============================] - 2s 2s/step - loss: 0.6664 - accuracy: 0.5385\n",
      "Epoch 9/10\n",
      "1/1 [==============================] - 2s 2s/step - loss: 0.6624 - accuracy: 0.5385\n",
      "Epoch 10/10\n",
      "1/1 [==============================] - 2s 2s/step - loss: 0.6553 - accuracy: 0.5385\n",
      "Accuracy: 42.86%\n",
      "              precision    recall  f1-score   support\n",
      "\n",
      "        Real       0.00      0.00      0.00         4\n",
      "        Fake       0.43      1.00      0.60         3\n",
      "\n",
      "    accuracy                           0.43         7\n",
      "   macro avg       0.21      0.50      0.30         7\n",
      "weighted avg       0.18      0.43      0.26         7\n",
      "\n"
     ]
    },
    {
     "name": "stderr",
     "output_type": "stream",
     "text": [
      "C:\\Users\\e399410\\AppData\\Roaming\\Python\\Python39\\site-packages\\sklearn\\metrics\\_classification.py:1308: UndefinedMetricWarning: Precision and F-score are ill-defined and being set to 0.0 in labels with no predicted samples. Use `zero_division` parameter to control this behavior.\n",
      "  _warn_prf(average, modifier, msg_start, len(result))\n",
      "C:\\Users\\e399410\\AppData\\Roaming\\Python\\Python39\\site-packages\\sklearn\\metrics\\_classification.py:1308: UndefinedMetricWarning: Precision and F-score are ill-defined and being set to 0.0 in labels with no predicted samples. Use `zero_division` parameter to control this behavior.\n",
      "  _warn_prf(average, modifier, msg_start, len(result))\n",
      "C:\\Users\\e399410\\AppData\\Roaming\\Python\\Python39\\site-packages\\sklearn\\metrics\\_classification.py:1308: UndefinedMetricWarning: Precision and F-score are ill-defined and being set to 0.0 in labels with no predicted samples. Use `zero_division` parameter to control this behavior.\n",
      "  _warn_prf(average, modifier, msg_start, len(result))\n"
     ]
    }
   ],
   "source": [
    "# create the bidirectional LSTM model\n",
    "\n",
    "if use_deep_classifiers:\n",
    "    model = Sequential()\n",
    "    model.add(Embedding(top_opcodes, embedding_vector_length, input_length=max_sequence_length))\n",
    "    model.add(Bidirectional(LSTM(100, dropout=0.2, recurrent_dropout=0.2)))\n",
    "    model.add(Dense(1, activation='sigmoid'))\n",
    "    model.compile(loss='binary_crossentropy', optimizer='adam', metrics=['accuracy'])\n",
    "    print(model.summary())\n",
    "    model.fit(X_train, y_train, epochs=10, batch_size=64)\n",
    "    # Final evaluation of the model\n",
    "    scores = model.evaluate(X_test, y_test, verbose=0)\n",
    "    bidirec_lstm_score = scores[1]*100\n",
    "    print(\"Accuracy: %.2f%%\" % (scores[1]*100))\n",
    "\n",
    "    # Classification Report\n",
    "    y_pred = np.round(model.predict(X_test))\n",
    "    print(classification_report(y_test, y_pred, target_names=target_names))"
   ]
  },
  {
   "attachments": {},
   "cell_type": "markdown",
   "metadata": {},
   "source": [
    "Define CNN LSTM Classifier"
   ]
  },
  {
   "cell_type": "code",
   "execution_count": 40,
   "metadata": {},
   "outputs": [
    {
     "name": "stdout",
     "output_type": "stream",
     "text": [
      "Model: \"sequential_8\"\n",
      "_________________________________________________________________\n",
      " Layer (type)                Output Shape              Param #   \n",
      "=================================================================\n",
      " embedding_8 (Embedding)     (None, 600, 32)           704       \n",
      "                                                                 \n",
      " conv1d_2 (Conv1D)           (None, 600, 32)           3104      \n",
      "                                                                 \n",
      " max_pooling1d_2 (MaxPooling  (None, 300, 32)          0         \n",
      " 1D)                                                             \n",
      "                                                                 \n",
      " lstm_8 (LSTM)               (None, 100)               53200     \n",
      "                                                                 \n",
      " dense_8 (Dense)             (None, 1)                 101       \n",
      "                                                                 \n",
      "=================================================================\n",
      "Total params: 57,109\n",
      "Trainable params: 57,109\n",
      "Non-trainable params: 0\n",
      "_________________________________________________________________\n",
      "None\n",
      "Epoch 1/10\n",
      "1/1 [==============================] - 2s 2s/step - loss: 0.6939 - accuracy: 0.4615\n",
      "Epoch 2/10\n",
      "1/1 [==============================] - 0s 196ms/step - loss: 0.6919 - accuracy: 0.6154\n",
      "Epoch 3/10\n",
      "1/1 [==============================] - 0s 206ms/step - loss: 0.6898 - accuracy: 0.5385\n",
      "Epoch 4/10\n",
      "1/1 [==============================] - 0s 214ms/step - loss: 0.6876 - accuracy: 0.5385\n",
      "Epoch 5/10\n",
      "1/1 [==============================] - 0s 207ms/step - loss: 0.6852 - accuracy: 0.5385\n",
      "Epoch 6/10\n",
      "1/1 [==============================] - 0s 203ms/step - loss: 0.6823 - accuracy: 0.5385\n",
      "Epoch 7/10\n",
      "1/1 [==============================] - 0s 207ms/step - loss: 0.6790 - accuracy: 0.5385\n",
      "Epoch 8/10\n",
      "1/1 [==============================] - 0s 203ms/step - loss: 0.6750 - accuracy: 0.5385\n",
      "Epoch 9/10\n",
      "1/1 [==============================] - 0s 224ms/step - loss: 0.6703 - accuracy: 0.5385\n",
      "Epoch 10/10\n",
      "1/1 [==============================] - 0s 222ms/step - loss: 0.6649 - accuracy: 0.5385\n",
      "Accuracy: 42.86%\n",
      "              precision    recall  f1-score   support\n",
      "\n",
      "        Real       0.00      0.00      0.00         4\n",
      "        Fake       0.43      1.00      0.60         3\n",
      "\n",
      "    accuracy                           0.43         7\n",
      "   macro avg       0.21      0.50      0.30         7\n",
      "weighted avg       0.18      0.43      0.26         7\n",
      "\n"
     ]
    },
    {
     "name": "stderr",
     "output_type": "stream",
     "text": [
      "C:\\Users\\e399410\\AppData\\Roaming\\Python\\Python39\\site-packages\\sklearn\\metrics\\_classification.py:1308: UndefinedMetricWarning: Precision and F-score are ill-defined and being set to 0.0 in labels with no predicted samples. Use `zero_division` parameter to control this behavior.\n",
      "  _warn_prf(average, modifier, msg_start, len(result))\n",
      "C:\\Users\\e399410\\AppData\\Roaming\\Python\\Python39\\site-packages\\sklearn\\metrics\\_classification.py:1308: UndefinedMetricWarning: Precision and F-score are ill-defined and being set to 0.0 in labels with no predicted samples. Use `zero_division` parameter to control this behavior.\n",
      "  _warn_prf(average, modifier, msg_start, len(result))\n",
      "C:\\Users\\e399410\\AppData\\Roaming\\Python\\Python39\\site-packages\\sklearn\\metrics\\_classification.py:1308: UndefinedMetricWarning: Precision and F-score are ill-defined and being set to 0.0 in labels with no predicted samples. Use `zero_division` parameter to control this behavior.\n",
      "  _warn_prf(average, modifier, msg_start, len(result))\n"
     ]
    }
   ],
   "source": [
    "# create the LSTM+CNN model\n",
    "\n",
    "if use_deep_classifiers:\n",
    "    model = Sequential()\n",
    "    model.add(Embedding(top_opcodes, embedding_vector_length, input_length=max_sequence_length))\n",
    "    model.add(Conv1D(filters=32, kernel_size=3, padding='same', activation='relu'))\n",
    "    model.add(MaxPooling1D(pool_size=2))\n",
    "    model.add(LSTM(100))\n",
    "    model.add(Dense(1, activation='sigmoid'))\n",
    "    model.compile(loss='binary_crossentropy', optimizer='adam', metrics=['accuracy'])\n",
    "    print(model.summary())\n",
    "    model.fit(X_train, y_train, epochs=10, batch_size=64)\n",
    "    # Final evaluation of the model\n",
    "    scores = model.evaluate(X_test, y_test, verbose=0)\n",
    "    cnn_lstm_score = scores[1]*100\n",
    "    print(\"Accuracy: %.2f%%\" % (scores[1]*100))\n",
    "\n",
    "    # Classification Report\n",
    "    y_pred = np.round(model.predict(X_test))\n",
    "    print(classification_report(y_test, y_pred, target_names=target_names))"
   ]
  },
  {
   "attachments": {},
   "cell_type": "markdown",
   "metadata": {},
   "source": [
    "Define SVM Classifer"
   ]
  },
  {
   "cell_type": "code",
   "execution_count": 41,
   "metadata": {},
   "outputs": [
    {
     "name": "stdout",
     "output_type": "stream",
     "text": [
      "SVM Accuracy: 57.14%\n",
      "              precision    recall  f1-score   support\n",
      "\n",
      "        Real       1.00      0.25      0.40         4\n",
      "        Fake       0.50      1.00      0.67         3\n",
      "\n",
      "    accuracy                           0.57         7\n",
      "   macro avg       0.75      0.62      0.53         7\n",
      "weighted avg       0.79      0.57      0.51         7\n",
      "\n"
     ]
    }
   ],
   "source": [
    "#Create a svm Classifier\n",
    "model = svm.SVC(C=5,kernel='linear') # Linear Kernel\n",
    "\n",
    "#Train the model using the training sets\n",
    "model.fit(X_train, y_train)\n",
    "\n",
    "#Predict the response for test dataset\n",
    "y_pred = model.predict(X_test)\n",
    "\n",
    "# Final evaluation of the model\n",
    "print(\"SVM Accuracy: %.2f%%\" % (accuracy_score(y_test, y_pred)*100))\n",
    "svm_score = accuracy_score(y_test, y_pred)*100\n",
    "\n",
    "# Classification Report\n",
    "y_pred = np.round(model.predict(X_test))\n",
    "print(classification_report(y_test, y_pred, target_names=target_names)) "
   ]
  },
  {
   "attachments": {},
   "cell_type": "markdown",
   "metadata": {},
   "source": [
    "Define Random Forest Classifier"
   ]
  },
  {
   "cell_type": "code",
   "execution_count": 42,
   "metadata": {},
   "outputs": [
    {
     "name": "stdout",
     "output_type": "stream",
     "text": [
      "Random Forest Accuracy: 57.14%\n",
      "              precision    recall  f1-score   support\n",
      "\n",
      "        Real       1.00      0.25      0.40         4\n",
      "        Fake       0.50      1.00      0.67         3\n",
      "\n",
      "    accuracy                           0.57         7\n",
      "   macro avg       0.75      0.62      0.53         7\n",
      "weighted avg       0.79      0.57      0.51         7\n",
      "\n"
     ]
    }
   ],
   "source": [
    "#Create a Random Forest Classifier\n",
    "model = RandomForestClassifier(max_depth=2, random_state=0)\n",
    "\n",
    "#Train the model using the training sets\n",
    "model.fit(X_train, y_train)\n",
    "\n",
    "#Predict the response for test dataset\n",
    "y_pred = model.predict(X_test)\n",
    "\n",
    "# Final evaluation of the model\n",
    "print(\"Random Forest Accuracy: %.2f%%\" % (accuracy_score(y_test, y_pred)*100))\n",
    "rf_score = accuracy_score(y_test, y_pred)*100\n",
    "\n",
    "# Classification Report\n",
    "y_pred = np.round(model.predict(X_test))\n",
    "print(classification_report(y_test, y_pred, target_names=target_names))"
   ]
  },
  {
   "attachments": {},
   "cell_type": "markdown",
   "metadata": {},
   "source": [
    "Define k-Nearest Neighbor Classifier"
   ]
  },
  {
   "cell_type": "code",
   "execution_count": 43,
   "metadata": {},
   "outputs": [
    {
     "name": "stdout",
     "output_type": "stream",
     "text": [
      "k-NN Accuracy: 57.14%\n",
      "              precision    recall  f1-score   support\n",
      "\n",
      "        Real       1.00      0.25      0.40         4\n",
      "        Fake       0.50      1.00      0.67         3\n",
      "\n",
      "    accuracy                           0.57         7\n",
      "   macro avg       0.75      0.62      0.53         7\n",
      "weighted avg       0.79      0.57      0.51         7\n",
      "\n"
     ]
    }
   ],
   "source": [
    "#Create a k-NN Classifier\n",
    "model = KNeighborsClassifier(n_neighbors=3)\n",
    "\n",
    "#Train the model using the training sets\n",
    "model.fit(X_train, y_train)\n",
    "\n",
    "#Predict the response for test dataset\n",
    "y_pred = model.predict(X_test)\n",
    "\n",
    "# Final evaluation of the model\n",
    "print(\"k-NN Accuracy: %.2f%%\" % (accuracy_score(y_test, y_pred)*100))\n",
    "knn_score = accuracy_score(y_test, y_pred)*100\n",
    "\n",
    "# Classification Report\n",
    "y_pred = np.round(model.predict(X_test))\n",
    "print(classification_report(y_test, y_pred, target_names=target_names))"
   ]
  },
  {
   "attachments": {},
   "cell_type": "markdown",
   "metadata": {},
   "source": [
    "Display All Classification Results"
   ]
  },
  {
   "cell_type": "code",
   "execution_count": 44,
   "metadata": {},
   "outputs": [
    {
     "name": "stdout",
     "output_type": "stream",
     "text": [
      "Classification on 20 WinWebSec Malware Samples (10 Real and 10 Fake vae_cnn_samples)\n",
      "-------------------------------------------------\n",
      "SVM Score: 57.14285714285714\n",
      "Random Forest Score: 57.14285714285714\n",
      "k-Nearest Neighbor Score: 57.14285714285714\n",
      "Standard LSTM Score: 42.85714328289032\n",
      "Bidirectional LSTM Score: 42.85714328289032\n",
      "CNN LSTM Score: 42.85714328289032\n",
      "=================================================\n",
      "Min Score: 42.85714328289032\n",
      "Average Score: 50.000000212873736\n",
      "Max Score: 57.14285714285714\n",
      "=================================================\n"
     ]
    }
   ],
   "source": [
    "print('Classification on ' + str(nSamples) + ' ' + real_malware + ' Malware Samples (' + str(nRealSamples) + ' Real and ' + str(nFakeSamples) + ' Fake ' + select_malware + ')')\n",
    "print('-------------------------------------------------')\n",
    "\n",
    "print(\"SVM Score:\", svm_score)\n",
    "print(\"Random Forest Score:\", rf_score)\n",
    "print(\"k-Nearest Neighbor Score:\", knn_score)\n",
    "\n",
    "if use_deep_classifiers:\n",
    "    print(\"Standard LSTM Score:\", lstm_score)\n",
    "    print(\"Bidirectional LSTM Score:\", bidirec_lstm_score)\n",
    "    print(\"CNN LSTM Score:\", cnn_lstm_score)\n",
    "\n",
    "    list_scores = [svm_score, rf_score, knn_score, lstm_score, bidirec_lstm_score, cnn_lstm_score]\n",
    "else:\n",
    "    list_scores = [svm_score, rf_score, knn_score]\n",
    "print(\"=================================================\")\n",
    "print(\"Min Score:\",min(list_scores))\n",
    "print(\"Average Score:\",sum(list_scores)/len(list_scores))\n",
    "print(\"Max Score:\",max(list_scores))\n",
    "print(\"=================================================\")"
   ]
  },
  {
   "attachments": {},
   "cell_type": "markdown",
   "metadata": {},
   "source": [
    "Classification using K-Folds"
   ]
  },
  {
   "cell_type": "code",
   "execution_count": 45,
   "metadata": {},
   "outputs": [],
   "source": [
    "\n",
    "def support_vector_machine(X, y, real_malware, select_malware,target_names,max_sequence_length):\n",
    "    print('******SVM******')\n",
    "    k = 5\n",
    "    accuracy = []\n",
    "    precision = []\n",
    "    recall = []\n",
    "    best = 0.\n",
    "    kf = KFold(n_splits=k, shuffle=True)\n",
    "\n",
    "    # truncate and pad input sequences\n",
    "    X = sequence.pad_sequences(X, maxlen=max_sequence_length)\n",
    "    \n",
    "    for train_index, test_index in kf.split(X):\n",
    "        X_train, X_test = X[train_index], X[test_index]\n",
    "        y_train, y_test = y[train_index], y[test_index]\n",
    "        clf = svm.SVC(C=5, kernel='rbf')\n",
    "        clf.fit(X_train, y_train)\n",
    "        acc = clf.score(X_test, y_test)\n",
    "        accuracy.append(acc)\n",
    "        if acc>best:\n",
    "            best = acc\n",
    "            best_train, best_test = train_index, test_index\n",
    "            \n",
    "        y_pred = clf.predict(X_test)\n",
    "        precision.append(precision_score(y_test, y_pred))\n",
    "        recall.append(recall_score(y_test, y_pred))\n",
    "        \n",
    "    print('\\nK-Fold accuracy: ', accuracy)\n",
    "    print('K-Fold precision: ', precision)\n",
    "    print('K-Fold recall: ', recall)\n",
    "    \n",
    "    \n",
    "    print('\\nAvg K-Fold accuracy: %0.2f'%np.mean(np.array(accuracy)))\n",
    "    print('Avg K-Fold precision: %0.2f'%np.mean(np.array(precision)))\n",
    "    print('Avg K-Fold recall: %0.2f\\n'%np.mean(np.array(recall)))\n",
    "    \n",
    "    X_train, X_test, y_train, y_test = X[best_train], X[best_test], y[best_train], y[best_test]\n",
    "    clf = svm.SVC(C=5, kernel='rbf')\n",
    "    clf.fit(X_train, y_train)\n",
    "    y_pred = clf.predict(X_test)\n",
    "    \n",
    "    fig, ax = plt.subplots(figsize=(4,4))\n",
    "    plot_confusion_matrix(clf, X_test, y_test, display_labels=np.array(target_names), cmap=plt.cm.Blues, ax=ax)\n",
    "    ax.set_title('%s Confusion Matrix \\n using %s'%(real_malware,select_malware))\n",
    "    plt.show()\n",
    "    \n",
    "    print(classification_report(y_test, y_pred, target_names=target_names)) \n",
    "\n",
    "def naive_bayes(X, y, real_malware, select_malware,target_names,max_sequence_length):\n",
    "    print('******Naive Bayes******')\n",
    "    k = 5\n",
    "    accuracy = []\n",
    "    precision = []\n",
    "    recall = []\n",
    "    best = 0.\n",
    "    kf = KFold(n_splits=k, shuffle=True, random_state=6357)\n",
    "\n",
    "    # truncate and pad input sequences\n",
    "    X = sequence.pad_sequences(X, maxlen=max_sequence_length)\n",
    "    \n",
    "    for train_index, test_index in kf.split(X):\n",
    "        X_train, X_test = X[train_index], X[test_index]\n",
    "        y_train, y_test = y[train_index], y[test_index]\n",
    "        clf = GaussianNB()\n",
    "        clf.fit(X_train, y_train)\n",
    "        acc = clf.score(X_test, y_test)\n",
    "        accuracy.append(acc)\n",
    "        if acc>best:\n",
    "            best = acc\n",
    "            best_train, best_test = train_index, test_index\n",
    "            \n",
    "        y_pred = clf.predict(X_test)\n",
    "        precision.append(precision_score(y_test, y_pred))\n",
    "        recall.append(recall_score(y_test, y_pred))\n",
    "        \n",
    "    print('\\nK-Fold accuracy: ', accuracy)\n",
    "    print('K-Fold precision: ', precision)\n",
    "    print('K-Fold recall: ', recall)\n",
    "    \n",
    "    print('\\nAvg K-Fold accuracy: %0.2f'%np.mean(np.array(accuracy)))\n",
    "    print('Avg K-Fold precision: %0.2f'%np.mean(np.array(precision)))\n",
    "    print('Avg K-Fold recall: %0.2f\\n'%np.mean(np.array(recall)))\n",
    "    \n",
    "    X_train, X_test, y_train, y_test = X[best_train], X[best_test], y[best_train], y[best_test]\n",
    "    clf = GaussianNB()\n",
    "    clf.fit(X_train, y_train)\n",
    "    y_pred = clf.predict(X_test)\n",
    "    \n",
    "    fig, ax = plt.subplots(figsize=(4,4))\n",
    "    plot_confusion_matrix(clf, X_test, y_test, display_labels=np.array(target_names), cmap=plt.cm.Blues, ax=ax)\n",
    "    ax.set_title('%s Confusion Matrix \\n using %s'%(real_malware,select_malware))\n",
    "    plt.show()\n",
    "    \n",
    "    print(classification_report(y_test, y_pred, target_names=target_names))\n",
    "\n",
    "def random_forest(X, y, real_malware, select_malware,target_names,max_sequence_length):\n",
    "    print('******Random Forest******')\n",
    "    k = 5\n",
    "    accuracy = []\n",
    "    precision = []\n",
    "    recall = []\n",
    "    best = 0.\n",
    "    kf = KFold(n_splits=k, shuffle=True, random_state=6357)\n",
    "\n",
    "    # truncate and pad input sequences\n",
    "    X = sequence.pad_sequences(X, maxlen=max_sequence_length)\n",
    "    \n",
    "    for train_index, test_index in kf.split(X):\n",
    "        X_train, X_test = X[train_index], X[test_index]\n",
    "        y_train, y_test = y[train_index], y[test_index]\n",
    "        clf = RandomForestClassifier(n_estimators=50, max_depth=5)\n",
    "        clf.fit(X_train, y_train)\n",
    "        acc = clf.score(X_test, y_test)\n",
    "        accuracy.append(acc)\n",
    "        if acc>best:\n",
    "            best = acc\n",
    "            best_train, best_test = train_index, test_index\n",
    "            \n",
    "        y_pred = clf.predict(X_test)\n",
    "        precision.append(precision_score(y_test, y_pred))\n",
    "        recall.append(recall_score(y_test, y_pred))\n",
    "        \n",
    "    print('\\nK-Fold accuracy: ', accuracy)\n",
    "    print('K-Fold precision: ', precision)\n",
    "    print('K-Fold recall: ', recall)\n",
    "    \n",
    "    print('\\nAvg K-Fold accuracy: %0.2f'%np.mean(np.array(accuracy)))\n",
    "    print('Avg K-Fold precision: %0.2f'%np.mean(np.array(precision)))\n",
    "    print('Avg K-Fold recall: %0.2f\\n'%np.mean(np.array(recall)))\n",
    "    \n",
    "    X_train, X_test, y_train, y_test = X[best_train], X[best_test], y[best_train], y[best_test]\n",
    "    clf = RandomForestClassifier(n_estimators=50, max_depth=5)\n",
    "    clf.fit(X_train, y_train)\n",
    "    y_pred = clf.predict(X_test)\n",
    "    \n",
    "    fig, ax = plt.subplots(figsize=(4,4))\n",
    "    plot_confusion_matrix(clf, X_test, y_test, display_labels=np.array(target_names), cmap=plt.cm.Blues, ax=ax)\n",
    "    ax.set_title('%s Confusion Matrix \\n using %s'%(real_malware,select_malware))\n",
    "    plt.show()\n",
    "    \n",
    "    print(classification_report(y_test, y_pred, target_names=target_names))\n",
    "\n",
    "def k_nearest_neighbors(X, y, real_malware, select_malware,target_names,max_sequence_length):\n",
    "    print('******K-Nearest Neighbors******')\n",
    "    k = 5\n",
    "    accuracy = []\n",
    "    precision = []\n",
    "    recall = []\n",
    "    best = 0.\n",
    "    kf = KFold(n_splits=k, shuffle=True, random_state=18245)\n",
    "\n",
    "    # truncate and pad input sequences\n",
    "    X = sequence.pad_sequences(X, maxlen=max_sequence_length)\n",
    "    \n",
    "    for train_index, test_index in kf.split(X):\n",
    "        X_train, X_test = X[train_index], X[test_index]\n",
    "        y_train, y_test = y[train_index], y[test_index]\n",
    "        clf = KNeighborsClassifier(n_neighbors=6, p=2)\n",
    "        clf.fit(X_train, y_train)\n",
    "        acc = clf.score(X_test, y_test)\n",
    "        accuracy.append(acc)\n",
    "        if acc>best:\n",
    "            best = acc\n",
    "            best_train, best_test = train_index, test_index\n",
    "            \n",
    "        y_pred = clf.predict(X_test)\n",
    "        precision.append(precision_score(y_test, y_pred))\n",
    "        recall.append(recall_score(y_test, y_pred))\n",
    "        \n",
    "    print('\\nK-Fold accuracy: ', accuracy)\n",
    "    print('K-Fold precision: ', precision)\n",
    "    print('K-Fold recall: ', recall)\n",
    "    \n",
    "    print('\\nAvg K-Fold accuracy: %0.2f'%np.mean(np.array(accuracy)))\n",
    "    print('Avg K-Fold precision: %0.2f'%np.mean(np.array(precision)))\n",
    "    print('Avg K-Fold recall: %0.2f\\n'%np.mean(np.array(recall)))\n",
    "    \n",
    "    X_train, X_test, y_train, y_test = X[best_train], X[best_test], y[best_train], y[best_test]\n",
    "    clf = KNeighborsClassifier(n_neighbors=6, p=2)\n",
    "    clf.fit(X_train, y_train)\n",
    "    y_pred = clf.predict(X_test)\n",
    "    \n",
    "    fig, ax = plt.subplots(figsize=(4,4))\n",
    "    plot_confusion_matrix(clf, X_test, y_test, display_labels=np.array(['real', 'fake']), cmap=plt.cm.Blues, ax=ax)\n",
    "    ax.set_title('%s Confusion Matrix \\n using %s'%(real_malware,select_malware))\n",
    "    plt.show()\n",
    "    \n",
    "    print(classification_report(y_test, y_pred, target_names=target_names))"
   ]
  },
  {
   "cell_type": "code",
   "execution_count": 46,
   "metadata": {},
   "outputs": [
    {
     "name": "stdout",
     "output_type": "stream",
     "text": [
      "******SVM******\n",
      "\n",
      "K-Fold accuracy:  [0.75, 1.0, 1.0, 0.75, 1.0]\n",
      "K-Fold precision:  [0.5, 1.0, 1.0, 0.6666666666666666, 1.0]\n",
      "K-Fold recall:  [1.0, 1.0, 1.0, 1.0, 1.0]\n",
      "\n",
      "Avg K-Fold accuracy: 0.90\n",
      "Avg K-Fold precision: 0.83\n",
      "Avg K-Fold recall: 1.00\n",
      "\n"
     ]
    },
    {
     "name": "stderr",
     "output_type": "stream",
     "text": [
      "C:\\Users\\e399410\\AppData\\Roaming\\Python\\Python39\\site-packages\\sklearn\\utils\\deprecation.py:87: FutureWarning: Function plot_confusion_matrix is deprecated; Function `plot_confusion_matrix` is deprecated in 1.0 and will be removed in 1.2. Use one of the class methods: ConfusionMatrixDisplay.from_predictions or ConfusionMatrixDisplay.from_estimator.\n",
      "  warnings.warn(msg, category=FutureWarning)\n"
     ]
    },
    {
     "data": {
      "image/png": "[encoded data removed]",
      "text/plain": [
       "<Figure size 288x288 with 2 Axes>"
      ]
     },
     "metadata": {
      "needs_background": "light"
     },
     "output_type": "display_data"
    },
    {
     "name": "stdout",
     "output_type": "stream",
     "text": [
      "              precision    recall  f1-score   support\n",
      "\n",
      "        Real       1.00      1.00      1.00         2\n",
      "        Fake       1.00      1.00      1.00         2\n",
      "\n",
      "    accuracy                           1.00         4\n",
      "   macro avg       1.00      1.00      1.00         4\n",
      "weighted avg       1.00      1.00      1.00         4\n",
      "\n",
      "******Naive Bayes******\n",
      "\n",
      "K-Fold accuracy:  [0.75, 1.0, 0.75, 0.75, 0.5]\n",
      "K-Fold precision:  [0.6666666666666666, 1.0, 0.0, 1.0, 1.0]\n",
      "K-Fold recall:  [1.0, 1.0, 0.0, 0.6666666666666666, 0.3333333333333333]\n",
      "\n",
      "Avg K-Fold accuracy: 0.75\n",
      "Avg K-Fold precision: 0.73\n",
      "Avg K-Fold recall: 0.60\n",
      "\n"
     ]
    },
    {
     "name": "stderr",
     "output_type": "stream",
     "text": [
      "C:\\Users\\e399410\\AppData\\Roaming\\Python\\Python39\\site-packages\\sklearn\\metrics\\_classification.py:1308: UndefinedMetricWarning: Precision is ill-defined and being set to 0.0 due to no predicted samples. Use `zero_division` parameter to control this behavior.\n",
      "  _warn_prf(average, modifier, msg_start, len(result))\n",
      "C:\\Users\\e399410\\AppData\\Roaming\\Python\\Python39\\site-packages\\sklearn\\utils\\deprecation.py:87: FutureWarning: Function plot_confusion_matrix is deprecated; Function `plot_confusion_matrix` is deprecated in 1.0 and will be removed in 1.2. Use one of the class methods: ConfusionMatrixDisplay.from_predictions or ConfusionMatrixDisplay.from_estimator.\n",
      "  warnings.warn(msg, category=FutureWarning)\n"
     ]
    },
    {
     "data": {
      "image/png": "[encoded data removed]",
      "text/plain": [
       "<Figure size 288x288 with 2 Axes>"
      ]
     },
     "metadata": {
      "needs_background": "light"
     },
     "output_type": "display_data"
    },
    {
     "name": "stdout",
     "output_type": "stream",
     "text": [
      "              precision    recall  f1-score   support\n",
      "\n",
      "        Real       1.00      1.00      1.00         3\n",
      "        Fake       1.00      1.00      1.00         1\n",
      "\n",
      "    accuracy                           1.00         4\n",
      "   macro avg       1.00      1.00      1.00         4\n",
      "weighted avg       1.00      1.00      1.00         4\n",
      "\n",
      "******Random Forest******\n",
      "\n",
      "K-Fold accuracy:  [0.5, 0.75, 0.75, 1.0, 0.75]\n",
      "K-Fold precision:  [0.5, 0.5, 0.5, 1.0, 1.0]\n",
      "K-Fold recall:  [1.0, 1.0, 1.0, 1.0, 0.6666666666666666]\n",
      "\n",
      "Avg K-Fold accuracy: 0.75\n",
      "Avg K-Fold precision: 0.70\n",
      "Avg K-Fold recall: 0.93\n",
      "\n"
     ]
    },
    {
     "name": "stderr",
     "output_type": "stream",
     "text": [
      "C:\\Users\\e399410\\AppData\\Roaming\\Python\\Python39\\site-packages\\sklearn\\utils\\deprecation.py:87: FutureWarning: Function plot_confusion_matrix is deprecated; Function `plot_confusion_matrix` is deprecated in 1.0 and will be removed in 1.2. Use one of the class methods: ConfusionMatrixDisplay.from_predictions or ConfusionMatrixDisplay.from_estimator.\n",
      "  warnings.warn(msg, category=FutureWarning)\n"
     ]
    },
    {
     "data": {
      "image/png": "[encoded data removed]",
      "text/plain": [
       "<Figure size 288x288 with 2 Axes>"
      ]
     },
     "metadata": {
      "needs_background": "light"
     },
     "output_type": "display_data"
    },
    {
     "name": "stderr",
     "output_type": "stream",
     "text": [
      "C:\\Users\\e399410\\AppData\\Roaming\\Python\\Python39\\site-packages\\sklearn\\utils\\deprecation.py:87: FutureWarning: Function plot_confusion_matrix is deprecated; Function `plot_confusion_matrix` is deprecated in 1.0 and will be removed in 1.2. Use one of the class methods: ConfusionMatrixDisplay.from_predictions or ConfusionMatrixDisplay.from_estimator.\n",
      "  warnings.warn(msg, category=FutureWarning)\n"
     ]
    },
    {
     "name": "stdout",
     "output_type": "stream",
     "text": [
      "              precision    recall  f1-score   support\n",
      "\n",
      "        Real       1.00      1.00      1.00         1\n",
      "        Fake       1.00      1.00      1.00         3\n",
      "\n",
      "    accuracy                           1.00         4\n",
      "   macro avg       1.00      1.00      1.00         4\n",
      "weighted avg       1.00      1.00      1.00         4\n",
      "\n",
      "******K-Nearest Neighbors******\n",
      "\n",
      "K-Fold accuracy:  [0.75, 0.25, 0.5, 0.75, 0.25]\n",
      "K-Fold precision:  [0.75, 0.25, 0.5, 0.75, 0.25]\n",
      "K-Fold recall:  [1.0, 1.0, 1.0, 1.0, 1.0]\n",
      "\n",
      "Avg K-Fold accuracy: 0.50\n",
      "Avg K-Fold precision: 0.50\n",
      "Avg K-Fold recall: 1.00\n",
      "\n"
     ]
    },
    {
     "data": {
      "image/png": "[encoded data removed]",
      "text/plain": [
       "<Figure size 288x288 with 2 Axes>"
      ]
     },
     "metadata": {
      "needs_background": "light"
     },
     "output_type": "display_data"
    },
    {
     "name": "stdout",
     "output_type": "stream",
     "text": [
      "              precision    recall  f1-score   support\n",
      "\n",
      "        Real       0.00      0.00      0.00         1\n",
      "        Fake       0.75      1.00      0.86         3\n",
      "\n",
      "    accuracy                           0.75         4\n",
      "   macro avg       0.38      0.50      0.43         4\n",
      "weighted avg       0.56      0.75      0.64         4\n",
      "\n"
     ]
    },
    {
     "name": "stderr",
     "output_type": "stream",
     "text": [
      "C:\\Users\\e399410\\AppData\\Roaming\\Python\\Python39\\site-packages\\sklearn\\metrics\\_classification.py:1308: UndefinedMetricWarning: Precision and F-score are ill-defined and being set to 0.0 in labels with no predicted samples. Use `zero_division` parameter to control this behavior.\n",
      "  _warn_prf(average, modifier, msg_start, len(result))\n",
      "C:\\Users\\e399410\\AppData\\Roaming\\Python\\Python39\\site-packages\\sklearn\\metrics\\_classification.py:1308: UndefinedMetricWarning: Precision and F-score are ill-defined and being set to 0.0 in labels with no predicted samples. Use `zero_division` parameter to control this behavior.\n",
      "  _warn_prf(average, modifier, msg_start, len(result))\n",
      "C:\\Users\\e399410\\AppData\\Roaming\\Python\\Python39\\site-packages\\sklearn\\metrics\\_classification.py:1308: UndefinedMetricWarning: Precision and F-score are ill-defined and being set to 0.0 in labels with no predicted samples. Use `zero_division` parameter to control this behavior.\n",
      "  _warn_prf(average, modifier, msg_start, len(result))\n"
     ]
    }
   ],
   "source": [
    "support_vector_machine(X,y,real_malware,select_malware,target_names,max_sequence_length)\n",
    "naive_bayes(X,y,real_malware,select_malware,target_names,max_sequence_length)\n",
    "random_forest(X,y,real_malware,select_malware,target_names,max_sequence_length)\n",
    "k_nearest_neighbors(X,y,real_malware,select_malware,target_names,max_sequence_length)"
   ]
  }
 ],
 "metadata": {
  "kernelspec": {
   "display_name": "Python 3",
   "language": "python",
   "name": "python3"
  },
  "language_info": {
   "codemirror_mode": {
    "name": "ipython",
    "version": 3
   },
   "file_extension": ".py",
   "mimetype": "text/x-python",
   "name": "python",
   "nbconvert_exporter": "python",
   "pygments_lexer": "ipython3",
   "version": "3.9.6"
  },
  "orig_nbformat": 4,
  "vscode": {
   "interpreter": {
    "hash": "11938c6bc6919ae2720b4d5011047913343b08a43b18698fd82dedb0d4417594"
   }
  }
 },
 "nbformat": 4,
 "nbformat_minor": 2
}
